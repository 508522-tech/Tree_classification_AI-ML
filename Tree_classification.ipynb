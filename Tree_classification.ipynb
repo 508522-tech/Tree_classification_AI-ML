{
 "cells": [
  {
   "cell_type": "code",
   "execution_count": 1,
   "id": "9665fb2c-aa0e-4b1e-a230-b7255cf855fd",
   "metadata": {},
   "outputs": [
    {
     "name": "stdout",
     "output_type": "stream",
     "text": [
      "Found 1280 images belonging to 31 classes.\n",
      "Found 320 images belonging to 31 classes.\n",
      "Classes: {'.git': 0, 'amla': 1, 'asopalav': 2, 'babul': 3, 'bamboo': 4, 'banyan': 5, 'bili': 6, 'cactus': 7, 'champa': 8, 'coconut': 9, 'garmalo': 10, 'gulmohor': 11, 'gunda': 12, 'jamun': 13, 'kanchan': 14, 'kesudo': 15, 'khajur': 16, 'mango': 17, 'motichanoti': 18, 'neem': 19, 'nilgiri': 20, 'other': 21, 'pilikaren': 22, 'pipal': 23, 'saptaparni': 24, 'shirish': 25, 'simlo': 26, 'sitafal': 27, 'sonmahor': 28, 'sugarcane': 29, 'vad': 30}\n"
     ]
    }
   ],
   "source": [
    "# part1_load_data.py\n",
    "\n",
    "import os\n",
    "from tensorflow.keras.preprocessing.image import ImageDataGenerator\n",
    "\n",
    "# Path to your dataset folder\n",
    "data_dir = r\"D:\\ranjith\\Tree_Species_Dataset\"  # or full path if not in same folder\n",
    "\n",
    "# Image size and batch\n",
    "img_height, img_width = 150, 150\n",
    "batch_size = 32\n",
    "\n",
    "# Split into train/validation using validation_split\n",
    "datagen = ImageDataGenerator(\n",
    "    rescale=1./255,\n",
    "    validation_split=0.2\n",
    ")\n",
    "\n",
    "# Load training data\n",
    "train_data = datagen.flow_from_directory(\n",
    "    data_dir,\n",
    "    target_size=(img_height, img_width),\n",
    "    batch_size=batch_size,\n",
    "    class_mode='categorical',\n",
    "    subset='training',\n",
    "    shuffle=True\n",
    ")\n",
    "\n",
    "# Load validation data\n",
    "val_data = datagen.flow_from_directory(\n",
    "    data_dir,\n",
    "    target_size=(img_height, img_width),\n",
    "    batch_size=batch_size,\n",
    "    class_mode='categorical',\n",
    "    subset='validation',\n",
    "    shuffle=False\n",
    ")\n",
    "\n",
    "# Class labels\n",
    "print(\"Classes:\", train_data.class_indices)\n"
   ]
  },
  {
   "cell_type": "code",
   "execution_count": null,
   "id": "8ed8bf1c-3a7d-48ff-b42a-6db71c6c39e9",
   "metadata": {},
   "outputs": [],
   "source": []
  }
 ],
 "metadata": {
  "kernelspec": {
   "display_name": "Python [conda env:base] *",
   "language": "python",
   "name": "conda-base-py"
  },
  "language_info": {
   "codemirror_mode": {
    "name": "ipython",
    "version": 3
   },
   "file_extension": ".py",
   "mimetype": "text/x-python",
   "name": "python",
   "nbconvert_exporter": "python",
   "pygments_lexer": "ipython3",
   "version": "3.12.7"
  }
 },
 "nbformat": 4,
 "nbformat_minor": 5
}
